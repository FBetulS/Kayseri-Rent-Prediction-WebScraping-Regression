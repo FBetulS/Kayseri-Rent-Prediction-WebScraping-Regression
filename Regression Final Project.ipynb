{
 "cells": [
  {
   "cell_type": "markdown",
   "id": "519a8b0c-ec69-4cb7-8bd8-422922898b55",
   "metadata": {},
   "source": [
    "# Regression Final Project"
   ]
  },
  {
   "cell_type": "raw",
   "id": "b11989b3-9e16-4a7b-8b07-8dd533d1f332",
   "metadata": {},
   "source": [
    " www.zingat.com web sitesinden Kayseriye ait kira ilanlarını ele alarak, Deep Learning Keras regression algoritmaları ile ev kira fiyatlarını tahmin eden bir model geliştereceğim."
   ]
  },
  {
   "cell_type": "code",
   "execution_count": 10,
   "id": "9bcde60c-637d-4033-8f5b-b6f37aaa9133",
   "metadata": {},
   "outputs": [],
   "source": [
    "# pip install requests beautifulsoup4 pandas"
   ]
  },
  {
   "cell_type": "code",
   "execution_count": 4,
   "id": "069b5210-f69d-4232-9e20-bddbf2353c4a",
   "metadata": {},
   "outputs": [],
   "source": [
    "import requests\n",
    "from bs4 import BeautifulSoup\n",
    "import pandas as pd"
   ]
  },
  {
   "cell_type": "code",
   "execution_count": 6,
   "id": "82cbcf47-9650-4af9-9ea3-0e31edebb4eb",
   "metadata": {},
   "outputs": [],
   "source": [
    "url = \"https://www.zingat.com/kayseri-kiralik-daire?page=1\""
   ]
  },
  {
   "cell_type": "code",
   "execution_count": 8,
   "id": "08035f49-501a-4ff9-973d-0cc2e44784b0",
   "metadata": {},
   "outputs": [],
   "source": [
    "headers = {\n",
    "    \"User-Agent\": \"Mozilla/5.0 (Windows NT 10.0; Win64; x64) AppleWebKit/537.36 (KHTML, like Gecko) Chrome/87.0.4280.88 Safari/537.36\"\n",
    "}"
   ]
  },
  {
   "cell_type": "code",
   "execution_count": 12,
   "id": "3cbe5e75-700a-49ec-be74-04413b36c71a",
   "metadata": {},
   "outputs": [],
   "source": [
    "response = requests.get(url, headers=headers)"
   ]
  },
  {
   "cell_type": "code",
   "execution_count": 14,
   "id": "74db6d5a-4a02-43c1-9752-f8375d899024",
   "metadata": {},
   "outputs": [],
   "source": [
    "soup = BeautifulSoup(response.content, \"html.parser\")"
   ]
  },
  {
   "cell_type": "code",
   "execution_count": 16,
   "id": "2fc66fcc-2c97-4942-8248-6a323dec2fcb",
   "metadata": {},
   "outputs": [],
   "source": [
    "listings = soup.find_all(\"div\", class_=\"list-item\")  # İlanların bulunduğu HTML sınıfını güncelleyebilirsin"
   ]
  },
  {
   "cell_type": "code",
   "execution_count": 24,
   "id": "92a28077-1ddd-46ec-805a-d99fd4b0dab5",
   "metadata": {},
   "outputs": [],
   "source": [
    "data = []"
   ]
  },
  {
   "cell_type": "code",
   "execution_count": 26,
   "id": "d8a51a6b-548d-4555-83fe-1ce639efe569",
   "metadata": {},
   "outputs": [],
   "source": [
    "for listing in listings:\n",
    "    try:\n",
    "        price = listing.find(\"div\", class_=\"price\").text.strip()  # Fiyat bilgisi\n",
    "        location = listing.find(\"div\", class_=\"location\").text.strip()  # Konum bilgisi\n",
    "        details = listing.find(\"div\", class_=\"details\").text.strip()  # Metrekare, oda sayısı vb.\n",
    "        \n",
    "        # Örnek: Verileri birleştir\n",
    "        data.append({\n",
    "            \"Price\": price,\n",
    "            \"Location\": location,\n",
    "            \"Details\": details\n",
    "        })\n",
    "    except AttributeError:\n",
    "        # Eksik bilgi varsa atla\n",
    "        continue"
   ]
  },
  {
   "cell_type": "code",
   "execution_count": 28,
   "id": "46dcc0c7-85c7-4cfc-9ff1-1b5c1e508738",
   "metadata": {},
   "outputs": [
    {
     "name": "stdout",
     "output_type": "stream",
     "text": [
      "Empty DataFrame\n",
      "Columns: []\n",
      "Index: []\n"
     ]
    }
   ],
   "source": [
    "df = pd.DataFrame(data)\n",
    "print(df.head())\n",
    "df.to_csv(\"kayseri_rent_listings.csv\", index=False)"
   ]
  },
  {
   "cell_type": "code",
   "execution_count": null,
   "id": "eabf6595-dd3a-4851-86bd-46c46bfc718a",
   "metadata": {},
   "outputs": [],
   "source": []
  },
  {
   "cell_type": "code",
   "execution_count": null,
   "id": "41df7735-5b1e-4e53-ab96-80e3ce878ebf",
   "metadata": {},
   "outputs": [],
   "source": []
  },
  {
   "cell_type": "code",
   "execution_count": null,
   "id": "920688be-db97-4616-9631-15aeb603fd23",
   "metadata": {},
   "outputs": [],
   "source": []
  }
 ],
 "metadata": {
  "kernelspec": {
   "display_name": "Python 3 (ipykernel)",
   "language": "python",
   "name": "python3"
  },
  "language_info": {
   "codemirror_mode": {
    "name": "ipython",
    "version": 3
   },
   "file_extension": ".py",
   "mimetype": "text/x-python",
   "name": "python",
   "nbconvert_exporter": "python",
   "pygments_lexer": "ipython3",
   "version": "3.12.7"
  }
 },
 "nbformat": 4,
 "nbformat_minor": 5
}
